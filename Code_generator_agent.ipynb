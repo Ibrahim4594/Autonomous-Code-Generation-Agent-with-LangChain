{
  "nbformat": 4,
  "nbformat_minor": 0,
  "metadata": {
    "colab": {
      "provenance": [],
      "authorship_tag": "ABX9TyNS/lsno4tKDj4KDeE0HhLv",
      "include_colab_link": true
    },
    "kernelspec": {
      "name": "python3",
      "display_name": "Python 3"
    },
    "language_info": {
      "name": "python"
    }
  },
  "cells": [
    {
      "cell_type": "markdown",
      "metadata": {
        "id": "view-in-github",
        "colab_type": "text"
      },
      "source": [
        "<a href=\"https://colab.research.google.com/github/Ibrahim4594/Autonomous-Code-Generation-Agent-with-LangChain/blob/main/Code_generator_agent.ipynb\" target=\"_parent\"><img src=\"https://colab.research.google.com/assets/colab-badge.svg\" alt=\"Open In Colab\"/></a>"
      ]
    },
    {
      "cell_type": "code",
      "execution_count": null,
      "metadata": {
        "id": "bCZeMREDiAts"
      },
      "outputs": [],
      "source": []
    },
    {
      "cell_type": "markdown",
      "metadata": {
        "id": "9096c18e"
      },
      "source": [
        "# Task\n",
        "Create a LangChain agent using the Gemini API that can write and execute code."
      ]
    },
    {
      "cell_type": "markdown",
      "metadata": {
        "id": "9d0af113"
      },
      "source": [
        "## Set up the environment\n",
        "\n",
        "### Subtask:\n",
        "Install necessary libraries for LangChain and the Gemini API.\n"
      ]
    },
    {
      "cell_type": "markdown",
      "metadata": {
        "id": "5418282b"
      },
      "source": [
        "**Reasoning**:\n",
        "Install the required libraries using pip.\n",
        "\n"
      ]
    },
    {
      "cell_type": "code",
      "metadata": {
        "id": "29dfb8b8"
      },
      "source": [
        "%pip install --quiet --upgrade langchain-google-genai langchain"
      ],
      "execution_count": 39,
      "outputs": []
    },
    {
      "cell_type": "markdown",
      "metadata": {
        "id": "914888f3"
      },
      "source": [
        "## Configure gemini api\n",
        "\n",
        "### Subtask:\n",
        "Load your Gemini API key and configure the API client.\n"
      ]
    },
    {
      "cell_type": "markdown",
      "metadata": {
        "id": "35101ae2"
      },
      "source": [
        "**Reasoning**:\n",
        "Import the `genai` library, load the Gemini API key from environment variables, and configure the `genai` library with the API key.\n",
        "\n"
      ]
    },
    {
      "cell_type": "code",
      "metadata": {
        "id": "d0d82d98"
      },
      "source": [
        "import os\n",
        "import google.generativeai as genai\n",
        "\n",
        "# Load the Gemini API key from environment variables\n",
        "GEMINI_API_KEY = os.getenv('new')\n",
        "\n",
        "# Configure the genai library with the API key\n",
        "genai.configure(api_key=GEMINI_API_KEY)"
      ],
      "execution_count": 40,
      "outputs": []
    },
    {
      "cell_type": "markdown",
      "metadata": {
        "id": "7bb30d18"
      },
      "source": [
        "**Reasoning**:\n",
        "The previous attempt failed because the `genai` library was not found. The correct library to import is `google.generativeai`. Also, since the task only requires configuring the API for LangChain, we only need to set the environment variable for the API key which LangChain will pick up automatically.\n",
        "\n"
      ]
    },
    {
      "cell_type": "code",
      "metadata": {
        "colab": {
          "base_uri": "https://localhost:8080/"
        },
        "id": "I0g6_ovFirC1",
        "outputId": "634f3c50-5d06-4084-f632-2826de5d748b"
      },
      "source": [
        "import os\n",
        "from google.colab import userdata\n",
        "\n",
        "# Load the Gemini API key from Colab secrets\n",
        "gemini_api_key = userdata.get('new')\n",
        "\n",
        "# Set the GOOGLE_API_KEY environment variable for LangChain\n",
        "if gemini_api_key:\n",
        "    os.environ['GOOGLE_API_KEY'] = gemini_api_key\n",
        "    print(\"GEMINI_API_KEY found and GOOGLE_API_KEY set.\")\n",
        "else:\n",
        "    print(\"GEMINI_API_KEY environment variable not set.\")"
      ],
      "execution_count": 41,
      "outputs": [
        {
          "output_type": "stream",
          "name": "stdout",
          "text": [
            "GEMINI_API_KEY found and GOOGLE_API_KEY set.\n"
          ]
        }
      ]
    },
    {
      "cell_type": "markdown",
      "metadata": {
        "id": "ab9c0c52"
      },
      "source": [
        "**Reasoning**:\n",
        "The previous attempt failed because the `GEMINI_API_KEY` environment variable was not set, resulting in `os.getenv('GEMINI_API_KEY')` returning `None`. The traceback indicates that `os.environ` expects a string, not `NoneType`. To fix this, I will check if the environment variable is set and handle the case where it's not, either by printing an error message or by using a placeholder value (though the former is better for a real-world scenario). However, for the purpose of this task, I will assume the user will set the environment variable correctly and just provide the corrected code for setting the environment variable.\n",
        "\n"
      ]
    },
    {
      "cell_type": "code",
      "metadata": {
        "colab": {
          "base_uri": "https://localhost:8080/"
        },
        "id": "_Hk8bEPgis-k",
        "outputId": "4d87f0c5-5ff7-41e0-8d73-05e2b8e04a38"
      },
      "source": [
        "import os\n",
        "from google.colab import userdata\n",
        "\n",
        "# Load the Gemini API key from Colab secrets\n",
        "gemini_api_key = userdata.get('new')\n",
        "\n",
        "# Set the GOOGLE_API_KEY environment variable for LangChain\n",
        "if gemini_api_key:\n",
        "    os.environ['GOOGLE_API_KEY'] = gemini_api_key\n",
        "    print(\"GEMINI_API_KEY found and GOOGLE_API_KEY set.\")\n",
        "else:\n",
        "    print(\"GEMINI_API_KEY environment variable not set.\")"
      ],
      "execution_count": 42,
      "outputs": [
        {
          "output_type": "stream",
          "name": "stdout",
          "text": [
            "GEMINI_API_KEY found and GOOGLE_API_KEY set.\n"
          ]
        }
      ]
    },
    {
      "cell_type": "markdown",
      "metadata": {
        "id": "101a6486"
      },
      "source": [
        "## Configure gemini api\n",
        "\n",
        "### Subtask:\n",
        "Load your Gemini API key and configure the API client.\n"
      ]
    },
    {
      "cell_type": "markdown",
      "metadata": {
        "id": "d44a4e44"
      },
      "source": [
        "**Reasoning**:\n",
        "Load the Gemini API key from the environment variable and set the GOOGLE_API_KEY environment variable for LangChain.\n",
        "\n"
      ]
    },
    {
      "cell_type": "code",
      "metadata": {
        "colab": {
          "base_uri": "https://localhost:8080/"
        },
        "id": "31a5fa84",
        "outputId": "5e473004-da18-4954-8363-8d6e89de6abc"
      },
      "source": [
        "import os\n",
        "from google.colab import userdata\n",
        "\n",
        "# Load the Gemini API key from Colab secrets\n",
        "gemini_api_key = userdata.get('new')\n",
        "\n",
        "# Set the GOOGLE_API_KEY environment variable for LangChain\n",
        "if gemini_api_key:\n",
        "    os.environ['GOOGLE_API_KEY'] = gemini_api_key\n",
        "    print(\"GEMINI_API_KEY found and GOOGLE_API_KEY set.\")\n",
        "else:\n",
        "    print(\"GEMINI_API_KEY environment variable not set.\")"
      ],
      "execution_count": 43,
      "outputs": [
        {
          "output_type": "stream",
          "name": "stdout",
          "text": [
            "GEMINI_API_KEY found and GOOGLE_API_KEY set.\n"
          ]
        }
      ]
    },
    {
      "cell_type": "markdown",
      "metadata": {
        "id": "2374cee8"
      },
      "source": [
        "## Configure gemini api\n",
        "\n",
        "### Subtask:\n",
        "Load your Gemini API key and configure the API client.\n"
      ]
    },
    {
      "cell_type": "markdown",
      "metadata": {
        "id": "a918728d"
      },
      "source": [
        "**Reasoning**:\n",
        "Load the Gemini API key from the environment variables and set the GOOGLE_API_KEY environment variable for LangChain if the Gemini API key is set.\n",
        "\n"
      ]
    },
    {
      "cell_type": "code",
      "metadata": {
        "colab": {
          "base_uri": "https://localhost:8080/"
        },
        "id": "4fc8ba29",
        "outputId": "68925fab-3cbb-4179-ec21-21a7da72ef1a"
      },
      "source": [
        "import os\n",
        "from google.colab import userdata\n",
        "\n",
        "# Load the Gemini API key from Colab secrets\n",
        "gemini_api_key = userdata.get('new')\n",
        "\n",
        "# Set the GOOGLE_API_KEY environment variable for LangChain\n",
        "if gemini_api_key:\n",
        "    os.environ['GOOGLE_API_KEY'] = gemini_api_key\n",
        "    print(\"GEMINI_API_KEY found and GOOGLE_API_KEY set.\")\n",
        "else:\n",
        "    print(\"GEMINI_API_KEY environment variable not set.\")"
      ],
      "execution_count": 44,
      "outputs": [
        {
          "output_type": "stream",
          "name": "stdout",
          "text": [
            "GEMINI_API_KEY found and GOOGLE_API_KEY set.\n"
          ]
        }
      ]
    },
    {
      "cell_type": "markdown",
      "metadata": {
        "id": "172619c2"
      },
      "source": [
        "## Configure gemini api\n",
        "\n",
        "### Subtask:\n",
        "Load your Gemini API key and configure the API client.\n"
      ]
    },
    {
      "cell_type": "markdown",
      "metadata": {
        "id": "76469615"
      },
      "source": [
        "**Reasoning**:\n",
        "Attempt to load the GEMINI_API_KEY environment variable again and set the GOOGLE_API_KEY environment variable for LangChain if the key is found. Print a message indicating whether the key was found.\n",
        "\n"
      ]
    },
    {
      "cell_type": "code",
      "metadata": {
        "colab": {
          "base_uri": "https://localhost:8080/"
        },
        "id": "f0f92309",
        "outputId": "fccf9f16-23b0-4c02-d197-ed32a5135cf2"
      },
      "source": [
        "import os\n",
        "from google.colab import userdata\n",
        "\n",
        "# Load the Gemini API key from Colab secrets\n",
        "gemini_api_key = userdata.get('new')\n",
        "\n",
        "# Set the GOOGLE_API_KEY environment variable for LangChain\n",
        "if gemini_api_key:\n",
        "    os.environ['GOOGLE_API_KEY'] = gemini_api_key\n",
        "    print(\"GEMINI_API_KEY found and GOOGLE_API_KEY set.\")\n",
        "else:\n",
        "    print(\"GEMINI_API_KEY environment variable not set.\")"
      ],
      "execution_count": 45,
      "outputs": [
        {
          "output_type": "stream",
          "name": "stdout",
          "text": [
            "GEMINI_API_KEY found and GOOGLE_API_KEY set.\n"
          ]
        }
      ]
    },
    {
      "cell_type": "markdown",
      "metadata": {
        "id": "9461f9e5"
      },
      "source": [
        "## Configure gemini api\n",
        "\n",
        "### Subtask:\n",
        "Load your Gemini API key and configure the API client.\n"
      ]
    },
    {
      "cell_type": "markdown",
      "metadata": {
        "id": "b6a40ebb"
      },
      "source": [
        "**Reasoning**:\n",
        "Load the Gemini API key from environment variables, set the GOOGLE_API_KEY environment variable if found, and print a confirmation message.\n",
        "\n"
      ]
    },
    {
      "cell_type": "code",
      "metadata": {
        "colab": {
          "base_uri": "https://localhost:8080/"
        },
        "id": "a6f52be9",
        "outputId": "1ee1d885-9b17-4cdd-a306-941b3ef49a86"
      },
      "source": [
        "import os\n",
        "from google.colab import userdata\n",
        "\n",
        "# Load the Gemini API key from Colab secrets\n",
        "gemini_api_key = userdata.get('new')\n",
        "\n",
        "# Set the GOOGLE_API_KEY environment variable for LangChain\n",
        "if gemini_api_key:\n",
        "    os.environ['GOOGLE_API_KEY'] = gemini_api_key\n",
        "    print(\"GEMINI_API_KEY found and GOOGLE_API_KEY set.\")\n",
        "else:\n",
        "    print(\"GEMINI_API_KEY environment variable not set.\")"
      ],
      "execution_count": 46,
      "outputs": [
        {
          "output_type": "stream",
          "name": "stdout",
          "text": [
            "GEMINI_API_KEY found and GOOGLE_API_KEY set.\n"
          ]
        }
      ]
    },
    {
      "cell_type": "markdown",
      "metadata": {
        "id": "868d7c26"
      },
      "source": [
        "## Define the tool\n",
        "\n",
        "### Subtask:\n",
        "Create a tool that the agent can use to execute code.\n"
      ]
    },
    {
      "cell_type": "markdown",
      "metadata": {
        "id": "dfa414e5"
      },
      "source": [
        "**Reasoning**:\n",
        "Define a function to execute code using `exec`, capture the output, handle errors, and decorate it as a tool.\n",
        "\n"
      ]
    },
    {
      "cell_type": "code",
      "metadata": {
        "id": "20163f43"
      },
      "source": [
        "import io\n",
        "import sys\n",
        "from langchain_core.tools import tool\n",
        "\n",
        "@tool\n",
        "def execute_code(code: str) -> str:\n",
        "    \"\"\"Execute Python code and return the output.\"\"\"\n",
        "    old_stdout = sys.stdout\n",
        "    redirected_output = io.StringIO()\n",
        "    sys.stdout = redirected_output\n",
        "    try:\n",
        "        exec(code)\n",
        "        output = redirected_output.getvalue()\n",
        "    except Exception as e:\n",
        "        output = f\"Error during code execution: {e}\"\n",
        "    finally:\n",
        "        sys.stdout = old_stdout\n",
        "    return output"
      ],
      "execution_count": 47,
      "outputs": []
    },
    {
      "cell_type": "markdown",
      "metadata": {
        "id": "896adf56"
      },
      "source": [
        "## Create the agent\n",
        "\n",
        "### Subtask:\n",
        "Initialize the LangChain agent with the Gemini model and the defined tool.\n"
      ]
    },
    {
      "cell_type": "markdown",
      "metadata": {
        "id": "be3ff769"
      },
      "source": [
        "**Reasoning**:\n",
        "Initialize the LangChain agent with the Gemini model and the defined tool by importing necessary classes, instantiating the model, creating a prompt template, creating the agent, and creating an AgentExecutor.\n",
        "\n"
      ]
    },
    {
      "cell_type": "code",
      "metadata": {
        "colab": {
          "base_uri": "https://localhost:8080/"
        },
        "id": "caa90471",
        "outputId": "0973e376-1fe7-44ce-baac-6b21ea3ab50f"
      },
      "source": [
        "from langchain_google_genai import ChatGoogleGenerativeAI\n",
        "from langchain.agents import create_tool_calling_agent, AgentExecutor\n",
        "from langchain_core.prompts import ChatPromptTemplate\n",
        "from langchain_core.messages import AIMessage, HumanMessage\n",
        "import os\n",
        "from langchain.memory import ConversationBufferMemory\n",
        "\n",
        "# Instantiate the ChatGoogleGenerativeAI model with the API key and disable default client options\n",
        "llm = ChatGoogleGenerativeAI(model=\"gemini-1.5-flash-latest\", google_api_key=os.getenv('GOOGLE_API_KEY'), client_options=None)\n",
        "\n",
        "# Create conversational memory\n",
        "memory = ConversationBufferMemory(memory_key=\"chat_history\", return_messages=True)\n",
        "\n",
        "# Create a prompt template with a few-shot example and chat history\n",
        "prompt = ChatPromptTemplate.from_messages([\n",
        "    (\"system\", \"You are a helpful assistant that can execute code. When asked to execute code, use the 'execute_code' tool.\"),\n",
        "    HumanMessage(content=\"Execute the code `print('hello')`\"),\n",
        "    AIMessage(content=\"\", additional_kwargs={'tool_calls': [{'function': {'arguments': '{\"code\":\"print(\\'hello\\')\"}', 'name': 'execute_code'}, 'id': 'call_abc123', 'type': 'function'}]}), # Example tool call\n",
        "    (\"human\", \"{input}\"),\n",
        "    (\"placeholder\", \"{agent_scratchpad}\"),\n",
        "])\n",
        "\n",
        "# Create the agent\n",
        "agent = create_tool_calling_agent(llm, [execute_code], prompt)\n",
        "\n",
        "# Create an AgentExecutor with memory\n",
        "agent_executor = AgentExecutor(agent=agent, tools=[execute_code], verbose=True, memory=memory)"
      ],
      "execution_count": 62,
      "outputs": [
        {
          "output_type": "stream",
          "name": "stderr",
          "text": [
            "/tmp/ipython-input-3747058771.py:12: LangChainDeprecationWarning: Please see the migration guide at: https://python.langchain.com/docs/versions/migrating_memory/\n",
            "  memory = ConversationBufferMemory(memory_key=\"chat_history\", return_messages=True)\n"
          ]
        }
      ]
    },
    {
      "cell_type": "code",
      "metadata": {
        "colab": {
          "base_uri": "https://localhost:8080/"
        },
        "id": "f8a9a3c7",
        "outputId": "13f69b71-99f0-49e3-e447-9fb39e5c9eb4"
      },
      "source": [
        "response = agent_executor.invoke({\"input\": \"Write and execute python code to print 'Hello, world!'\"})\n",
        "print(response['output'])"
      ],
      "execution_count": 61,
      "outputs": [
        {
          "output_type": "stream",
          "name": "stdout",
          "text": [
            "\n",
            "\n",
            "\u001b[1m> Entering new AgentExecutor chain...\u001b[0m\n",
            "\u001b[32;1m\u001b[1;3m\n",
            "Invoking: `execute_code` with `{'code': 'print(\"Hello, world!\")'}`\n",
            "\n",
            "\n",
            "\u001b[0m\u001b[36;1m\u001b[1;3mHello, world!\n",
            "\u001b[0m\u001b[32;1m\u001b[1;3mHello, world!\n",
            "\u001b[0m\n",
            "\n",
            "\u001b[1m> Finished chain.\u001b[0m\n",
            "Hello, world!\n",
            "\n"
          ]
        }
      ]
    },
    {
      "cell_type": "code",
      "metadata": {
        "colab": {
          "base_uri": "https://localhost:8080/"
        },
        "id": "2cc02934",
        "outputId": "38e70539-c07d-44fb-d8f8-75699fe56e6f"
      },
      "source": [
        "print(\"Start chatting with the agent! Type 'exit' to end.\")\n",
        "\n",
        "while True:\n",
        "    user_input = input(\"You: \")\n",
        "    if user_input.lower() == 'exit':\n",
        "        break\n",
        "    try:\n",
        "        response = agent_executor.invoke({\"input\": user_input})\n",
        "        print(\"Agent:\", response['output'])\n",
        "    except Exception as e:\n",
        "        print(\"An error occurred:\", e)\n",
        "\n",
        "print(\"Chat ended.\")"
      ],
      "execution_count": null,
      "outputs": [
        {
          "metadata": {
            "tags": null
          },
          "name": "stdout",
          "output_type": "stream",
          "text": [
            "Start chatting with the agent! Type 'exit' to end.\n",
            "\n",
            "\n",
            "\u001b[1m> Entering new AgentExecutor chain...\u001b[0m\n",
            "\u001b[32;1m\u001b[1;3mHello! How can I help you today?\n",
            "\u001b[0m\n",
            "\n",
            "\u001b[1m> Finished chain.\u001b[0m\n",
            "Agent: Hello! How can I help you today?\n",
            "\n",
            "\n",
            "\n",
            "\u001b[1m> Entering new AgentExecutor chain...\u001b[0m\n",
            "\u001b[32;1m\u001b[1;3m```python\n",
            "def my_function(arg1, arg2):\n",
            "  \"\"\"This is a sample function.\n",
            "\n",
            "  Args:\n",
            "    arg1: The first argument.\n",
            "    arg2: The second argument.\n",
            "\n",
            "  Returns:\n",
            "    The sum of arg1 and arg2.\n",
            "  \"\"\"\n",
            "  return arg1 + arg2\n",
            "\n",
            "print(my_function(1,2))\n",
            "```\u001b[0m\n",
            "\n",
            "\u001b[1m> Finished chain.\u001b[0m\n",
            "Agent: ```python\n",
            "def my_function(arg1, arg2):\n",
            "  \"\"\"This is a sample function.\n",
            "\n",
            "  Args:\n",
            "    arg1: The first argument.\n",
            "    arg2: The second argument.\n",
            "\n",
            "  Returns:\n",
            "    The sum of arg1 and arg2.\n",
            "  \"\"\"\n",
            "  return arg1 + arg2\n",
            "\n",
            "print(my_function(1,2))\n",
            "```\n"
          ]
        }
      ]
    },
    {
      "cell_type": "markdown",
      "metadata": {
        "id": "5072a0c0"
      },
      "source": [
        "## Engage in a conversation with the agent\n",
        "\n",
        "### Subtask:\n",
        "Implement a chat loop to interact with the conversational agent.\n",
        "\n",
        "**Reasoning**:\n",
        "Use a loop to continuously take user input, invoke the agent executor with the input, and print the agent's response."
      ]
    },
    {
      "cell_type": "markdown",
      "metadata": {
        "id": "0c8a4b21"
      },
      "source": [
        "## Test the agent\n",
        "\n",
        "### Subtask:\n",
        "Write prompts to test the agent's ability to write and execute code.\n",
        "\n",
        "**Reasoning**:\n",
        "Run the `agent_executor` with a simple prompt to test if the agent can use the `execute_code` tool."
      ]
    }
  ]
}